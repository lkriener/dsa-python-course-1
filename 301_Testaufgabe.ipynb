{
 "cells": [
  {
   "cell_type": "markdown",
   "id": "8c823c24-2ede-4890-ad16-99cc288dc3c4",
   "metadata": {},
   "source": [
    "# Gelateria di Rossleben\n",
    "\n",
    "Die (fiktive) Gelateria di Rossleben hat eine Umfrage gestartet, um herauszufinden, wie beliebt ihre Eissorten sind! Das Ergebnis haben die Mitarbeiter:innen in der Datei XXX abgespeichert und bitten Dich um Hilfe: Du sollst für Sie den Datensatz auswerten!\n",
    "\n",
    "30 Stammkund:innen wurden gebeten, die zwölf Eissorten von 1 (= naja, wenn's sein muss) bis 5 (= super hammer mega lecker) zu bewerten."
   ]
  },
  {
   "cell_type": "code",
   "execution_count": null,
   "id": "f72fa811-414b-4e3f-b042-8c75bb5a2842",
   "metadata": {},
   "outputs": [],
   "source": [
    "import numpy as np\n",
    "import matplotlib.pyplot as plt"
   ]
  },
  {
   "cell_type": "code",
   "execution_count": null,
   "id": "384e03b0-c456-4bd6-94c7-4742327c7bdc",
   "metadata": {},
   "outputs": [],
   "source": [
    "def make_data_point(mu, sigma, n):\n",
    "    data = np.random.normal(mu, sigma, n)\n",
    "    data = np.where(data < 1.0, 1.0, data)\n",
    "    data = np.where(data > 5.0, 5.0, data)\n",
    "    data = np.round(data)\n",
    "    return data"
   ]
  },
  {
   "cell_type": "code",
   "execution_count": null,
   "id": "c38ac59e-b83d-4ebf-9be3-2ff0041ab13b",
   "metadata": {},
   "outputs": [],
   "source": [
    "data_gen_1 = {\n",
    "    \"Erdbeer-Basilikum\": [4.3, 1.2],\n",
    "    \"Caffe\": [3.4, 3.9],\n",
    "    \"Caramel Fleur de Sel\": [4.6, 0.4],\n",
    "    \"Cocco (vegan)\": [2.9, 2.1],\n",
    "    \"Himbeer-Ingwer Sorbet\": [4.1, 0.9],\n",
    "    \"Maripan\": [2.5, 2.5],\n",
    "    \"Panna Cotta\": [4.2, 1.0],\n",
    "    \"Mango Sorbet\": [3.5, 2.0],\n",
    "    \"Peanut crunchy dream\": [2.9, 1.5],\n",
    "    \"cioccolato fondente (vegan)\": [4.7, 0.6],\n",
    "    \"Stracciatella\": [3.7, 0.3],\n",
    "    \"Vaniglia Bourbon\": [4.1, 2.4],\n",
    "}\n",
    "\n",
    "data_1 = {}\n",
    "for key, vals in data_gen_1.items():\n",
    "    data_1[key] = make_data_point(*vals, 30)\n",
    "\n",
    "print(data_1)"
   ]
  },
  {
   "cell_type": "code",
   "execution_count": null,
   "id": "4bc06d86-3a57-4e89-9463-ab9bf7187250",
   "metadata": {},
   "outputs": [],
   "source": [
    "data_gen_1 = {\n",
    "    \"Erdbeer-Basilikum\": [4.3, 1.2],\n",
    "    \"Caffe\": [3.4, 3.9],\n",
    "    \"Caramel Fleur de Sel\": [4.9, 0.4],\n",
    "    \"Cocco (vegan)\": [2.9, 2.1],\n",
    "    \"Himbeer-Ingwer Sorbet\": [4.1, 0.9],\n",
    "    \"Maripan\": [2.5, 1.5],\n",
    "    \"Panna Cotta\": [4.2, 1.0],\n",
    "    \"Mango Sorbet\": [3.5, 2.0],\n",
    "    \"Peanut crunchy dream\": [2.9, 1.5],\n",
    "    \"cioccolato fondente (vegan)\": [4.3, 0.6],\n",
    "    \"Stracciatella\": [3.7, 0.3],\n",
    "    \"Vaniglia Bourbon\": [4.1, 2.4],\n",
    "}\n",
    "\n",
    "data_1 = {}\n",
    "for key, vals in data_gen_1.items():\n",
    "    data_1[key] = make_data_point(*vals, 30)\n",
    "\n",
    "pure_data = np.array(list(data_1.values())).T\n",
    "header = \", \".join([str(element) for element in data_1.keys()])\n",
    "np.savetxt(\"data/gelateria_2022.csv\", pure_data, header=header)"
   ]
  },
  {
   "cell_type": "code",
   "execution_count": null,
   "id": "4ad8b783-a1cc-4b5d-bb2c-6c9029d898ba",
   "metadata": {},
   "outputs": [],
   "source": [
    "data_gen_2 = {\n",
    "    \"Erdbeer-Basilikum\": [4.1, 1.2],\n",
    "    \"Caffe\": [3.9, 3.9],\n",
    "    \"Caramel Fleur de Sel\": [4.1, 0.4],\n",
    "    \"Cocco (vegan)\": [2.1, 2.1],\n",
    "    \"Himbeer-Ingwer Sorbet\": [3.9, 0.9],\n",
    "    \"Maripan\": [2.9, 1.0],\n",
    "    \"Panna Cotta\": [4.6, 1.0],\n",
    "    \"Mango Sorbet\": [3.2, 2.0],\n",
    "    \"Peanut crunchy dream\": [2.9, 0.6],\n",
    "    \"cioccolato fondente (vegan)\": [3.3, 0.6],\n",
    "    \"Stracciatella\": [4.5, 0.3],\n",
    "    \"Vaniglia Bourbon\": [4.1, 2.4],\n",
    "}\n",
    "\n",
    "data_2 = {}\n",
    "for key, vals in data_gen_2.items():\n",
    "    data_2[key] = make_data_point(*vals, 30)\n",
    "\n",
    "pure_data = np.array(list(data_2.values())).T\n",
    "header = \", \".join([str(element) for element in data_2.keys()])\n",
    "np.savetxt(\"data/gelateria_2021.csv\", pure_data, header=header)"
   ]
  },
  {
   "cell_type": "markdown",
   "id": "da887447-b0b1-4f1c-863a-6c98a39e6195",
   "metadata": {},
   "source": [
    "## 1. Lade den Datensatz von 2022"
   ]
  },
  {
   "cell_type": "code",
   "execution_count": null,
   "id": "61dd0075-0200-4698-9333-876322608f24",
   "metadata": {},
   "outputs": [],
   "source": [
    "data_2022 = np.loadtxt(\"data/gelateria_2022.csv\")\n",
    "print(data_2022)"
   ]
  },
  {
   "cell_type": "code",
   "execution_count": null,
   "id": "69d4b5ef-98ec-4e8d-9db1-cdcc41e5b7e6",
   "metadata": {},
   "outputs": [],
   "source": [
    "with open(\"data/gelateria_2022.csv\", \"r\") as f:\n",
    "    rawdata = f.readlines()\n",
    "    flavours = rawdata[0][2:-1].split(sep=\", \")\n",
    "\n",
    "print(flavours)"
   ]
  },
  {
   "cell_type": "markdown",
   "id": "f990fa25-a153-4f3d-82a8-c9b5ca9ccbb8",
   "metadata": {},
   "source": [
    "# 2. Visualisiere die Ergebnisse:\n",
    "\n",
    "Welche Eissorte ist die (un)beliebste?"
   ]
  },
  {
   "cell_type": "code",
   "execution_count": null,
   "id": "bad9aa1a-c2f1-4bed-982e-c71e9d877930",
   "metadata": {},
   "outputs": [],
   "source": [
    "means_2022 = np.mean(data_2022, axis=0)\n",
    "\n",
    "plt.bar(np.arange(12), means_2022)\n",
    "plt.xticks(ticks=np.arange(12), labels=flavours, rotation=\"vertical\")"
   ]
  },
  {
   "cell_type": "markdown",
   "id": "5e7154ac-e6f2-4865-8868-edb52d033649",
   "metadata": {},
   "source": [
    "Bei welcher Sorte sind sich die Kund:innen am (un)einigsten?"
   ]
  },
  {
   "cell_type": "code",
   "execution_count": null,
   "id": "bfa786ed-cc11-4397-be9b-480d8a34a10b",
   "metadata": {},
   "outputs": [],
   "source": [
    "std_2022 = np.std(data_2022, axis=0)\n",
    "\n",
    "plt.bar(np.arange(12), std_2022)\n",
    "plt.xticks(ticks=np.arange(12), labels=flavours, rotation=\"vertical\")"
   ]
  },
  {
   "cell_type": "markdown",
   "id": "73dda8f7-2e12-454c-9cd3-6036eb17f512",
   "metadata": {},
   "source": [
    "## 3. Vergleiche mit dem Ergebnis von 2021!\n",
    "\n",
    "welche Eissorten sind beliebter geworden, welche unbeliebter? welche\n",
    "\n",
    "sind die Eissorten insgesamt beliebter oder unbeliebter geworden?"
   ]
  },
  {
   "cell_type": "code",
   "execution_count": null,
   "id": "b3c75f16-bf3e-4924-8afe-47ea49ceb60d",
   "metadata": {},
   "outputs": [],
   "source": [
    "data_2021 = np.loadtxt('data/gelateria_2021.csv')\n",
    "\n",
    "means_2021 = np.mean(data_2021, axis=0)\n",
    "\n",
    "diff = means_2022 - means_2021\n",
    "\n",
    "if sum(diff) > 0:\n",
    "    print('Das Eis ist insgesamt besser geworden!\")\n",
    "else:\n",
    "    print(\"Das Eis ist leider schlechter geworden!\")\n",
    "\n",
    "plt.bar(np.arange(12), diff)\n",
    "plt.xticks(ticks=np.arange(12), labels=flavours, rotation='vertical')"
   ]
  }
 ],
 "metadata": {
  "kernelspec": {
   "display_name": "Python 3 (ipykernel)",
   "language": "python",
   "name": "python3"
  },
  "language_info": {
   "codemirror_mode": {
    "name": "ipython",
    "version": 3
   },
   "file_extension": ".py",
   "mimetype": "text/x-python",
   "name": "python",
   "nbconvert_exporter": "python",
   "pygments_lexer": "ipython3",
   "version": "3.8.16"
  }
 },
 "nbformat": 4,
 "nbformat_minor": 5
}

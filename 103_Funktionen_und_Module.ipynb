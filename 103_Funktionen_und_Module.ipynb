{
 "cells": [
  {
   "cell_type": "markdown",
   "metadata": {},
   "source": [
    "Kurs 6.3 \"Vom Gehirn Lernen\" -- Python-Tutorial | [Startseite](index.ipynb)\n",
    "\n",
    "---"
   ]
  },
  {
   "cell_type": "markdown",
   "metadata": {},
   "source": [
    "# 103 - Funktionen und Module"
   ]
  },
  {
   "cell_type": "markdown",
   "metadata": {},
   "source": [
    "- [Funktionen sind die Bausteine eines Programms](#Funktionen-sind-die-Bausteine-eines-Programms)\n",
    "- [Aufgabe 1 - Mehr Primzahlen](#Aufgabe-1---Mehr-Primzahlen)\n",
    "- [Aufgabe 2 - Fakultät](#Aufgabe-2---Fakultät)\n",
    "- [Funktionen aus Modulen importieren](#Funktionen-aus-Modulen-importieren)\n",
    "- [Aufgabe 3 - Gaussian](#Aufgabe-3---Gaussian)"
   ]
  },
  {
   "cell_type": "markdown",
   "metadata": {},
   "source": [
    "Wir können nun bereits Variablen setzen und _control flow_ Anweisungen geben um kleine Programme zu schreiben. Damit können wir schon vieles berechnen! Wenn wir jedoch komplexere Berechnungen ausführen möchten, kann ein Programm schnell sehr lang und unleserlich werden. Eine wichtige Regel in der Programmierung ist es daher, **Wiederholung zu vermeiden**. Dazu definieren wir wiederverwendbare **Funktionen** und verwenden schon vorhandene Funktionalität aus **Modulen**.\n",
    "\n",
    "## Funktionen sind die Bausteine eines Programms\n",
    "\n",
    "Eine Funktion ist ein Codeblock, der eine abgeschlossene Aufgabe erfüllt. Funktionen haben immer einen **Namen**, können **Argumente** annehmen und **Rückgabewerte** zurückgeben. In Python haben Funktionen folgende Syntax:\n",
    "\n",
    "```python\n",
    "def function_name(arguments):\n",
    "    # code here\n",
    "    return values\n",
    "```\n",
    "\n",
    "Beachtet wieder die Abgrenzung des Codeblocks durch Einrückung, wie wir es bereits bei `if`-Abfragen und Schleifen kennengelernt haben.\n",
    "\n",
    "Ist die Funktion definiert, können wir sie mit folgender Syntax aufrufen:\n",
    "\n",
    "```python\n",
    "function_name(arguments)\n",
    "```\n",
    "\n",
    "Mit Funktionen können wir ein komplexes Problem in lösbare Teilprobleme zerlegen, die wir dann zu einem vollständigen Programm zusammensetzen.\n",
    "\n",
    "> **Beispiel:** Haben wir einmal eine Funktion geschrieben, die eine Liste sortiert, können wir immer darauf zurückgreifen, anstatt den Code jedes mal aufs Neue zu schreiben.\n",
    "\n",
    "> **Hinweis:** Nur weil du Code in Funktionen auslagern _kannst_ solltest du das nicht immer tun. Schreibe dann eine Funktion, wenn du dadurch Wiederholungen vermeidest oder das Programm klarer strukturierst. **Häufig ist eine Funktion dann sinnvoll, wenn du ihr einen deskriptiven Namen geben kannst.**"
   ]
  },
  {
   "cell_type": "markdown",
   "metadata": {},
   "source": [
    "### Argumente und Rückgabewerte\n",
    "\n",
    "Eine Funktion kann mehrere Argumente annehmen..."
   ]
  },
  {
   "cell_type": "code",
   "execution_count": 2,
   "metadata": {},
   "outputs": [
    {
     "name": "stdout",
     "output_type": "stream",
     "text": [
      "4\n",
      "4.2\n",
      "7.0\n"
     ]
    }
   ],
   "source": [
    "def add(a, b):\n",
    "    summe = a + b\n",
    "    return summe\n",
    "\n",
    "print(add(1,3))\n",
    "print(add(1.,3.2))\n",
    "print(add(4,3.))"
   ]
  },
  {
   "cell_type": "markdown",
   "metadata": {},
   "source": [
    "Man kann diese Funktion auch etwas kürzer schreiben, indem man die Summe gleich an der Stelle berechnet, an der die Funktion ihr Ergebnis zurück gibt:"
   ]
  },
  {
   "cell_type": "code",
   "execution_count": 3,
   "metadata": {},
   "outputs": [
    {
     "name": "stdout",
     "output_type": "stream",
     "text": [
      "4\n",
      "4.2\n",
      "7.0\n"
     ]
    }
   ],
   "source": [
    "def add(a, b):\n",
    "    return a + b\n",
    "\n",
    "print(add(1,3))\n",
    "print(add(1.,3.2))\n",
    "print(add(4,3.))"
   ]
  },
  {
   "cell_type": "markdown",
   "metadata": {},
   "source": [
    "Eine Funktion kann auch mehrere Werte zurückgeben:"
   ]
  },
  {
   "cell_type": "code",
   "execution_count": 4,
   "metadata": {},
   "outputs": [
    {
     "name": "stdout",
     "output_type": "stream",
     "text": [
      "(10, 2.5)\n"
     ]
    }
   ],
   "source": [
    "def double_and_halve(value):\n",
    "    return value * 2, value / 2\n",
    "\n",
    "print(double_and_halve(5))"
   ]
  },
  {
   "cell_type": "markdown",
   "metadata": {},
   "source": [
    "Die Rückgabewerte können wir einer oder mehreren Variablen zuweisen:"
   ]
  },
  {
   "cell_type": "code",
   "execution_count": 5,
   "metadata": {},
   "outputs": [
    {
     "name": "stdout",
     "output_type": "stream",
     "text": [
      "10.0\n",
      "2.5\n"
     ]
    }
   ],
   "source": [
    "d, h = double_and_halve(5.)\n",
    "print(d)\n",
    "print(h)"
   ]
  },
  {
   "cell_type": "markdown",
   "metadata": {},
   "source": [
    "Funktionen können **andere Funktionen aufrufen**:"
   ]
  },
  {
   "cell_type": "code",
   "execution_count": 6,
   "metadata": {},
   "outputs": [
    {
     "name": "stdout",
     "output_type": "stream",
     "text": [
      "doing A\n",
      "doing B\n"
     ]
    }
   ],
   "source": [
    "def do_a():\n",
    "    print(\"doing A\")\n",
    "    \n",
    "def do_b():\n",
    "    print(\"doing B\")\n",
    "    \n",
    "def do_a_and_b():\n",
    "    do_a()\n",
    "    do_b()\n",
    "    \n",
    "do_a_and_b()"
   ]
  },
  {
   "cell_type": "markdown",
   "metadata": {},
   "source": [
    "Argumente können auch einen **_default_-Wert** besitzen und damit **optional** sein:"
   ]
  },
  {
   "cell_type": "code",
   "execution_count": 7,
   "metadata": {},
   "outputs": [
    {
     "name": "stdout",
     "output_type": "stream",
     "text": [
      "Hello World!\n",
      "Hello Alice!\n"
     ]
    }
   ],
   "source": [
    "def say_hello(to_name=\"World\"):\n",
    "    print(\"Hello {}!\".format(to_name))\n",
    "say_hello()\n",
    "say_hello(\"Alice\")"
   ]
  },
  {
   "cell_type": "markdown",
   "metadata": {},
   "source": [
    "Argumente können in der **Reihenfolge** gegeben werden, in der die Funktion sie definiert, oder mit Angabe des Argumentnamens in beliebiger Reihenfolge:"
   ]
  },
  {
   "cell_type": "code",
   "execution_count": 8,
   "metadata": {},
   "outputs": [
    {
     "name": "stdout",
     "output_type": "stream",
     "text": [
      "Hello Alice! My name is Bob.\n",
      "Hello Alice! My name is Bob.\n"
     ]
    }
   ],
   "source": [
    "def say_hello(to_name=\"World\", my_name=None):\n",
    "    if my_name is None:\n",
    "        print(\"Hello {}!\".format(name))\n",
    "    else:\n",
    "        print(\"Hello {}! My name is {}.\".format(to_name, my_name))\n",
    "say_hello(\"Alice\", \"Bob\")\n",
    "say_hello(my_name=\"Bob\", to_name=\"Alice\")"
   ]
  },
  {
   "cell_type": "markdown",
   "metadata": {},
   "source": [
    "### Aufgabe 1 - Mehr Primzahlen\n",
    "\n",
    "Definiere eine Funktion mit dem Namen `is_prime`, die eine Zahl annimmt und `True` zurückgibt wenn die Zahl eine Primzahl ist, bzw. `False` wenn nicht.\n",
    "\n",
    "Kopiere dazu deinen Code um Primzahlen zu finden von zuvor und verändere ihn entsprechend."
   ]
  },
  {
   "cell_type": "code",
   "execution_count": 5,
   "metadata": {
    "nbgrader": {
     "grade": false,
     "grade_id": "103-1-sol",
     "locked": false,
     "schema_version": 1,
     "solution": true
    }
   },
   "outputs": [],
   "source": [
    "def is_prime(n):\n",
    "    # DEINE LÖSUNG HIER\n",
    "    pass  # `pass` ist ein Platzhalter und sagt Python, dass es einfach nix machen soll. Entferne es, wenn du eine Lösung hast\n"
   ]
  },
  {
   "cell_type": "code",
   "execution_count": 4,
   "metadata": {
    "nbgrader": {
     "grade": true,
     "grade_id": "103-1-test",
     "locked": true,
     "points": 1,
     "schema_version": 1,
     "solution": false
    }
   },
   "outputs": [
    {
     "ename": "AssertionError",
     "evalue": "Die Zahl 47 sollte eine Primzahl sein. Prüfe den Code deiner Funktion.",
     "output_type": "error",
     "traceback": [
      "\u001b[0;31m---------------------------------------------------------------------------\u001b[0m",
      "\u001b[0;31mAssertionError\u001b[0m                            Traceback (most recent call last)",
      "\u001b[0;32m<ipython-input-4-fec3596c89f4>\u001b[0m in \u001b[0;36m<module>\u001b[0;34m\u001b[0m\n\u001b[1;32m      4\u001b[0m     \u001b[0;32mraise\u001b[0m \u001b[0mNameError\u001b[0m\u001b[0;34m(\u001b[0m\u001b[0;34m\"Es gibt keine Funktion mit dem Namen 'is_prime'. Stelle sicher, dass deine Funktion so benannt ist.\"\u001b[0m\u001b[0;34m)\u001b[0m\u001b[0;34m\u001b[0m\u001b[0;34m\u001b[0m\u001b[0m\n\u001b[1;32m      5\u001b[0m \u001b[0;34m\u001b[0m\u001b[0m\n\u001b[0;32m----> 6\u001b[0;31m \u001b[0;32massert\u001b[0m \u001b[0mis_prime\u001b[0m\u001b[0;34m(\u001b[0m\u001b[0;36m47\u001b[0m\u001b[0;34m)\u001b[0m\u001b[0;34m,\u001b[0m \u001b[0;34m\"Die Zahl 47 sollte eine Primzahl sein. Prüfe den Code deiner Funktion.\"\u001b[0m\u001b[0;34m\u001b[0m\u001b[0;34m\u001b[0m\u001b[0m\n\u001b[0m\u001b[1;32m      7\u001b[0m \u001b[0;32massert\u001b[0m \u001b[0;32mnot\u001b[0m \u001b[0mis_prime\u001b[0m\u001b[0;34m(\u001b[0m\u001b[0;36m48\u001b[0m\u001b[0;34m)\u001b[0m\u001b[0;34m,\u001b[0m \u001b[0;34m\"Die Zahl 48 sollte _keine_ Primzahl sein. Prüfe den Code deiner Funktion.\"\u001b[0m\u001b[0;34m\u001b[0m\u001b[0;34m\u001b[0m\u001b[0m\n\u001b[1;32m      8\u001b[0m \u001b[0mprint\u001b[0m\u001b[0;34m(\u001b[0m\u001b[0;34m\"Klappt.\"\u001b[0m\u001b[0;34m)\u001b[0m\u001b[0;34m\u001b[0m\u001b[0;34m\u001b[0m\u001b[0m\n",
      "\u001b[0;31mAssertionError\u001b[0m: Die Zahl 47 sollte eine Primzahl sein. Prüfe den Code deiner Funktion."
     ]
    }
   ],
   "source": [
    "try:\n",
    "    is_prime\n",
    "except NameError:\n",
    "    raise NameError(\"Es gibt keine Funktion mit dem Namen 'is_prime'. Stelle sicher, dass deine Funktion so benannt ist.\")\n",
    "    \n",
    "assert is_prime(47), \"Die Zahl 47 sollte eine Primzahl sein. Prüfe den Code deiner Funktion.\"\n",
    "assert not is_prime(48), \"Die Zahl 48 sollte _keine_ Primzahl sein. Prüfe den Code deiner Funktion.\"\n",
    "print(\"Klappt.\")"
   ]
  },
  {
   "cell_type": "markdown",
   "metadata": {},
   "source": [
    "### Aufgabe 2 - Fakultät\n",
    "\n",
    "Schreibe eine Funktion mit dem Namen `factorial`, die eine Zahl annimmt und die Fakultät `n! = n*(n-1)*...*3*2*1` dieser Zahl zurückgibt.\n",
    "\n",
    "**Hinweis:** Du kannst zunächst versuchen, die Aufgabe mit einer Schleife zu lösen. Funktionen können sich jedoch auch selbst aufrufen (sog. _rekursive_ Funktionen). Versuche eine Funktion zu schreiben, die _keine Schleife_ verwendet!"
   ]
  },
  {
   "cell_type": "code",
   "execution_count": 13,
   "metadata": {
    "nbgrader": {
     "grade": false,
     "grade_id": "103-2-sol",
     "locked": false,
     "schema_version": 1,
     "solution": true
    }
   },
   "outputs": [],
   "source": [
    "def factorial(n):\n",
    "    # DEINE LÖSUNG HIER\n",
    "    pass  # `pass` ist ein Platzhalter und sagt Python, dass es einfach nix machen soll. Entferne es, wenn du eine Lösung hast"
   ]
  },
  {
   "cell_type": "code",
   "execution_count": 14,
   "metadata": {
    "nbgrader": {
     "grade": true,
     "grade_id": "103-2-test",
     "locked": true,
     "points": 1,
     "schema_version": 1,
     "solution": false
    }
   },
   "outputs": [
    {
     "ename": "AssertionError",
     "evalue": "1! sollte 1 ergeben. Prüfe den Code deiner Funktion.",
     "output_type": "error",
     "traceback": [
      "\u001b[0;31m---------------------------------------------------------------------------\u001b[0m",
      "\u001b[0;31mAssertionError\u001b[0m                            Traceback (most recent call last)",
      "\u001b[0;32m<ipython-input-14-ab1c2abbf6e7>\u001b[0m in \u001b[0;36m<module>\u001b[0;34m\u001b[0m\n\u001b[1;32m      4\u001b[0m     \u001b[0;32mraise\u001b[0m \u001b[0mNameError\u001b[0m\u001b[0;34m(\u001b[0m\u001b[0;34m\"Es gibt keine Funktion mit dem Namen 'factorial'. Stelle sicher, dass deine Funktion so benannt ist.\"\u001b[0m\u001b[0;34m)\u001b[0m\u001b[0;34m\u001b[0m\u001b[0;34m\u001b[0m\u001b[0m\n\u001b[1;32m      5\u001b[0m \u001b[0;34m\u001b[0m\u001b[0m\n\u001b[0;32m----> 6\u001b[0;31m \u001b[0;32massert\u001b[0m \u001b[0mfactorial\u001b[0m\u001b[0;34m(\u001b[0m\u001b[0;36m1\u001b[0m\u001b[0;34m)\u001b[0m \u001b[0;34m==\u001b[0m \u001b[0;36m1\u001b[0m\u001b[0;34m,\u001b[0m \u001b[0;34m\"1! sollte 1 ergeben. Prüfe den Code deiner Funktion.\"\u001b[0m\u001b[0;34m\u001b[0m\u001b[0;34m\u001b[0m\u001b[0m\n\u001b[0m\u001b[1;32m      7\u001b[0m \u001b[0;32massert\u001b[0m \u001b[0mfactorial\u001b[0m\u001b[0;34m(\u001b[0m\u001b[0;36m2\u001b[0m\u001b[0;34m)\u001b[0m \u001b[0;34m==\u001b[0m \u001b[0;36m2\u001b[0m\u001b[0;34m,\u001b[0m \u001b[0;34m\"2! sollte 2 ergeben. Prüfe den Code deiner Funktion.\"\u001b[0m\u001b[0;34m\u001b[0m\u001b[0;34m\u001b[0m\u001b[0m\n\u001b[1;32m      8\u001b[0m \u001b[0;32massert\u001b[0m \u001b[0mfactorial\u001b[0m\u001b[0;34m(\u001b[0m\u001b[0;36m5\u001b[0m\u001b[0;34m)\u001b[0m \u001b[0;34m==\u001b[0m \u001b[0;36m120\u001b[0m\u001b[0;34m,\u001b[0m \u001b[0;34m\"5! sollte 120 ergeben. Prüfe den Code deiner Funktion.\"\u001b[0m\u001b[0;34m\u001b[0m\u001b[0;34m\u001b[0m\u001b[0m\n",
      "\u001b[0;31mAssertionError\u001b[0m: 1! sollte 1 ergeben. Prüfe den Code deiner Funktion."
     ]
    }
   ],
   "source": [
    "try:\n",
    "    factorial\n",
    "except NameError:\n",
    "    raise NameError(\"Es gibt keine Funktion mit dem Namen 'factorial'. Stelle sicher, dass deine Funktion so benannt ist.\")\n",
    "    \n",
    "assert factorial(1) == 1, \"1! sollte 1 ergeben. Prüfe den Code deiner Funktion.\"\n",
    "assert factorial(2) == 2, \"2! sollte 2 ergeben. Prüfe den Code deiner Funktion.\"\n",
    "assert factorial(5) == 120, \"5! sollte 120 ergeben. Prüfe den Code deiner Funktion.\"\n",
    "print(\"🙌 Funktioniert!\")"
   ]
  },
  {
   "cell_type": "markdown",
   "metadata": {},
   "source": [
    "### Variablen sind dort verfügbar, wo sie definiert wurden\n",
    "\n",
    "Argumente von Funktionen und Variablen, die im Codeblock der Funktion definiert wurden, sind nur innerhalb der Funktion verfügbar (**_local scope_**):"
   ]
  },
  {
   "cell_type": "code",
   "execution_count": 4,
   "metadata": {},
   "outputs": [
    {
     "name": "stdout",
     "output_type": "stream",
     "text": [
      "Innerhalb der Funktion ist local_var bekannt und ihr Wert kann hier geprinted werden:\n",
      "17\n",
      "...aber ausserhalb der Funktion nicht\n"
     ]
    },
    {
     "ename": "NameError",
     "evalue": "name 'local_var' is not defined",
     "output_type": "error",
     "traceback": [
      "\u001b[0;31m---------------------------------------------------------------------------\u001b[0m",
      "\u001b[0;31mNameError\u001b[0m                                 Traceback (most recent call last)",
      "\u001b[0;32m<ipython-input-4-f23591ad439d>\u001b[0m in \u001b[0;36m<module>\u001b[0;34m\u001b[0m\n\u001b[1;32m      7\u001b[0m \u001b[0;34m\u001b[0m\u001b[0m\n\u001b[1;32m      8\u001b[0m \u001b[0mprint\u001b[0m\u001b[0;34m(\u001b[0m\u001b[0;34m'...aber ausserhalb der Funktion nicht'\u001b[0m\u001b[0;34m)\u001b[0m\u001b[0;34m\u001b[0m\u001b[0;34m\u001b[0m\u001b[0m\n\u001b[0;32m----> 9\u001b[0;31m \u001b[0mprint\u001b[0m\u001b[0;34m(\u001b[0m\u001b[0mlocal_var\u001b[0m\u001b[0;34m)\u001b[0m\u001b[0;34m\u001b[0m\u001b[0;34m\u001b[0m\u001b[0m\n\u001b[0m",
      "\u001b[0;31mNameError\u001b[0m: name 'local_var' is not defined"
     ]
    }
   ],
   "source": [
    "def do_something():\n",
    "    local_var = 17 # Diese Variable ist innerhalb der Funktion definiert...\n",
    "    print('Innerhalb der Funktion ist local_var bekannt und ihr Wert kann hier geprinted werden:')\n",
    "    print(local_var)\n",
    "    \n",
    "do_something()    \n",
    "\n",
    "print('...aber ausserhalb der Funktion nicht')\n",
    "print(local_var)"
   ]
  },
  {
   "cell_type": "markdown",
   "metadata": {},
   "source": [
    "Variablen, die zum Zeitpunkt außerhalb von Funktionen definiert wurden, werden **globale Variablen** genannt und sind auch innerhalb von Funktionen verfügbar (**_global scope_**):"
   ]
  },
  {
   "cell_type": "code",
   "execution_count": 24,
   "metadata": {},
   "outputs": [
    {
     "data": {
      "text/plain": [
       "1.57"
      ]
     },
     "execution_count": 24,
     "metadata": {},
     "output_type": "execute_result"
    }
   ],
   "source": [
    "PI = 3.14 # Diese Variable ist global definiert...\n",
    "# ...und kann überall, also auch innerhalb von verschiedenen Funktionen verwendet werden:\n",
    "\n",
    "def degrees_to_radians(degrees):\n",
    "    return degrees / 180 * PI\n",
    "\n",
    "degrees_to_radians(90)"
   ]
  },
  {
   "cell_type": "markdown",
   "metadata": {},
   "source": [
    "**Achtung:** Hier ist die Reihenfolge der Definitionen wichtig! Eine globale Variable die in einer Funktion benutzt werden soll, muss bevor die Funktion aufgerufen wird (*nicht bevor die Funktion definiert wird*) definiert werden."
   ]
  },
  {
   "cell_type": "code",
   "execution_count": 5,
   "metadata": {},
   "outputs": [
    {
     "name": "stdout",
     "output_type": "stream",
     "text": [
      "Hier wird GLOBAL_VAR ausserhalb der Funktion geprinted:\n",
      "12\n",
      "Hier wird GLOBAL_VAR aus der Funktion heraus geprinted:\n",
      "17\n"
     ]
    }
   ],
   "source": [
    "GLOBAL_VAR = 12   # Hier definieren wir die globale Variable\n",
    "print('Hier wird GLOBAL_VAR ausserhalb der Funktion geprinted:')\n",
    "print(GLOBAL_VAR)\n",
    "\n",
    "# Hier definieren wir eine Funktion die die globale Variable benutzen wird sobald die Funktion ausgeführt wird\n",
    "def print_global_var():\n",
    "    print('Hier wird GLOBAL_VAR aus der Funktion heraus geprinted:')\n",
    "    print(GLOBAL_VAR)\n",
    "    \n",
    "GLOBAL_VAR = 17   # Hier aendern wir den Wert der globalen Variable (um ein bisschen Verwirrung zu stifen)\n",
    "\n",
    "# Und jetz erst führen wir die Funktion aus\n",
    "print_global_var()"
   ]
  },
  {
   "cell_type": "markdown",
   "metadata": {},
   "source": [
    "### Aufgabe 3: Globale Variablen\n",
    "\n",
    "**a)** Überlege dir, ob du genau erklären kannst, warum welcher Wert von `GLOBAL_VAR` wo geprinted wird.\n",
    "\n",
    "**b)** Überlege dir, was passieren würde, wenn wir die Funktionsdefinition  `def print_global_var():` ganz nach oben in der Zelle verschieben würden.\n",
    "\n",
    "**c)** Überlege dir, was passieren würde, wenn wir die Funktionsdefinition  `def print_global_var():` ganz nach unten in der Zelle verschieben würden.\n",
    "\n",
    "**d)** Überlege dir, was passieren würde, wenn wir die Funktionsdefinition  `def print_global_var():` nach `GLOBAL_VAR = 17` verschieben würden.\n",
    "\n",
    "**e)** Überlege dir, was passieren würde, wenn wir den Funktionsaufruf `print_global_var()` vor `GLOBAL_VAR = 17` verschieben würden."
   ]
  },
  {
   "cell_type": "code",
   "execution_count": 7,
   "metadata": {},
   "outputs": [],
   "source": [
    "# Hier kannst du deine Antworten von oben überprüfen\n",
    "\n",
    "# MODIFIZIERTER CODE HIER"
   ]
  },
  {
   "cell_type": "markdown",
   "metadata": {},
   "source": [
    "### Lokale Variablen werden bevorzugt"
   ]
  },
  {
   "cell_type": "markdown",
   "metadata": {},
   "source": [
    "Wenn eine Variable sowohl global als auch lokal definiert ist, wird die lokale Variable bevorzugt:"
   ]
  },
  {
   "cell_type": "code",
   "execution_count": 21,
   "metadata": {},
   "outputs": [
    {
     "name": "stdout",
     "output_type": "stream",
     "text": [
      "2\n",
      "1\n"
     ]
    }
   ],
   "source": [
    "a = 1\n",
    "def show_var():\n",
    "    a = 2\n",
    "    print(a)\n",
    "show_var() # Hier wird die lokale Variable verwendet...\n",
    "print(a) # ... und hier die Globale."
   ]
  },
  {
   "cell_type": "markdown",
   "metadata": {
    "tags": []
   },
   "source": [
    "### Achtung!\n",
    "\n",
    "Bei der Verwendung von globalen Variablen ist Vorsicht geboten. Je länger der Code, desto schwieriger ist es den kompletten Überblick zu behalten, was welche Variable wo tut und wo sie wie verändert wird. \n",
    "\n",
    "### Aufgabe 4: Noch mehr globale Variablen\n",
    "\n",
    "Versuche, ohne den untenstehenden Code laufen zu lassen, vorherzusagen was nacheinander geprinted wird.\n",
    "\n",
    "```python\n",
    "a = 42\n",
    "b = 5\n",
    "\n",
    "def function1():\n",
    "    b = 17\n",
    "    print('a = {}'.format(a))\n",
    "    print('b = {}'.format(a))\n",
    "    \n",
    "def function2():\n",
    "    a = 42\n",
    "    print('a = {}'.format(a))\n",
    "    print('b = {}'.format(a))\n",
    "\n",
    "function2()    \n",
    "    \n",
    "print('a = {}'.format(a))\n",
    "print('b = {}'.format(a))\n",
    "\n",
    "a = 13\n",
    "\n",
    "function1()\n",
    "\n",
    "print('a = {}'.format(a))\n",
    "print('b = {}'.format(a))\n",
    "\n",
    "b = 13\n",
    "a = 17\n",
    "\n",
    "function1()\n",
    "function2()    \n",
    "```"
   ]
  },
  {
   "cell_type": "markdown",
   "metadata": {},
   "source": [
    "**Um genau diese potentielle Verwirrung zu vermeiden, werden globale Variablen so selten wie möglich genutzt!** Wenn die Funktion Input-Parameter benötigt solltest du sie der Funktion immer als Argumente übergeben. Wenn überhaupt, werden globale Variablen für Werte verwendet, die sich nie während des Programmablaufs ändern werden, z.B. physikalische oder mathematische Konstanten wie $\\pi$.\n",
    "\n",
    "> Per Konvention schreiben wir Konstanten die wir als globale Variablen programmieren in Großbuchstaben wie `PI`."
   ]
  },
  {
   "cell_type": "markdown",
   "metadata": {},
   "source": [
    "## Funktionen aus Modulen importieren"
   ]
  },
  {
   "cell_type": "markdown",
   "metadata": {},
   "source": [
    "Die beruhigende Nachricht ist: viele Probleme wurden schon gelöst. Für häufige Aufgaben, wie bspw. das Sortieren von Listen, existieren sogar hochoptimierte und getestete Lösungen, die wir tunlichst verwenden sollten, anstatt unsere eigene zu schreiben!\n",
    "\n",
    "Abgesehen von einigen grundlegenden Datentypen und Funktionen wie `print` oder `len` sind diese Funktionen nicht in der Python Standard Library enthalten sondern in **Modulen** ausgelagert. Mit der folgenden Syntax können wir ein Modul **importieren**, um auf die enthaltenen Funktionen zugreifen zu können:\n",
    "\n",
    "```python\n",
    "import module\n",
    "module.function_name()\n",
    "```\n",
    "\n",
    "Häufig verwendeten Modulen können wir einen abgekürzten Namen geben:\n",
    "\n",
    "```python\n",
    "import module as m\n",
    "m.function_name()\n",
    "```\n",
    "\n",
    "Wir können auch nur einzelne Funktionen eines Moduls importieren:\n",
    "\n",
    "```python\n",
    "from module import function_name\n",
    "function_name()\n",
    "```"
   ]
  },
  {
   "cell_type": "markdown",
   "metadata": {},
   "source": [
    "Anstatt die Funktion `factorial` aus der obigen Aufgabe selbst zu schreiben, können wir nun einfach die gleichnamige Funktion aus dem Modul `math` verwenden:"
   ]
  },
  {
   "cell_type": "code",
   "execution_count": 20,
   "metadata": {},
   "outputs": [
    {
     "data": {
      "text/plain": [
       "120"
      ]
     },
     "execution_count": 20,
     "metadata": {},
     "output_type": "execute_result"
    }
   ],
   "source": [
    "import math\n",
    "math.factorial(5)"
   ]
  },
  {
   "cell_type": "markdown",
   "metadata": {},
   "source": [
    "> Hinweis: Um herauszufinden welche Funktionen ein Modul zur Verfügung stellt, kannst du wieder die `<TAB>`-Vervollständigung im Jupyter Notebook verwenden:"
   ]
  },
  {
   "cell_type": "code",
   "execution_count": 13,
   "metadata": {},
   "outputs": [],
   "source": [
    "import math # Importiere das Modul, indem du diese Zelle ausführst"
   ]
  },
  {
   "cell_type": "code",
   "execution_count": null,
   "metadata": {},
   "outputs": [],
   "source": [
    "#math.<TAB> # Entferne das '#'-Symbol und drücke die <TAB>-Taste nach dem Punkt"
   ]
  },
  {
   "cell_type": "markdown",
   "metadata": {},
   "source": [
    "> **Hinweis:** Diese Notation mit `name.funktions_name()` hast du auch schon bei den Objekten und deren Methoden gesehen (z.B. `dict.keys()`). Das sieht zwar gleich aus wie die Notation mit den Modulen, aber ist es ist nicht genau das Gleiche...Hier wird die Notation benutzt um klarzumachen aus welchem Modul wir eine Funktion benutzen. Also nicht verwirren lassen."
   ]
  },
  {
   "cell_type": "markdown",
   "metadata": {},
   "source": [
    "Die `from`-`import`-Syntax ist insbesondere für mathematische Ausdrücke hilfreich, sodass wir das Modul nicht immer schreiben müssen:"
   ]
  },
  {
   "cell_type": "code",
   "execution_count": 19,
   "metadata": {},
   "outputs": [
    {
     "data": {
      "text/plain": [
       "1.0"
      ]
     },
     "execution_count": 19,
     "metadata": {},
     "output_type": "execute_result"
    }
   ],
   "source": [
    "from math import cos, sin\n",
    "from math import pi as PI\n",
    "\n",
    "def func(r, phi, theta):\n",
    "    return r * cos(phi) * sin(theta)\n",
    "\n",
    "func(1, 0, PI/2)"
   ]
  },
  {
   "cell_type": "markdown",
   "metadata": {},
   "source": [
    "## Module bieten vielseitige Funktionalität"
   ]
  },
  {
   "cell_type": "markdown",
   "metadata": {},
   "source": [
    "Neben eingebauten Modulen wie `math` haben Python-Entwickler eine Vielzahl von Modulen für jeden Anwendungsbereich geschrieben. So können wir mit wenigen Zeilen Code äußerst komplexe Programme schreiben.\n",
    "\n",
    "> Beispielsweise lesen wir mit `numpy` unseren Datensatz ein, berechnen mit `scipy` einen Fit und plotten beides mit `matplotlib`. Den Umgang mit diesen Modulen lernen wir im nächsten Kapitel.\n",
    "\n",
    "Funktionen zur Berechnung von Mittelwert und Standardabweichung stellt bspw. `numpy` zur Verfügung:"
   ]
  },
  {
   "cell_type": "code",
   "execution_count": 17,
   "metadata": {},
   "outputs": [
    {
     "data": {
      "text/plain": [
       "(2.8333333333333335, 2.034425935955617)"
      ]
     },
     "execution_count": 17,
     "metadata": {},
     "output_type": "execute_result"
    }
   ],
   "source": [
    "import numpy as np\n",
    "li = [1,2,7,3,1,3]\n",
    "np.mean(li), np.std(li)"
   ]
  },
  {
   "cell_type": "markdown",
   "metadata": {},
   "source": [
    "> Es gibt natürlich nicht nur Module für die wissenschaftliche Anwendung. Python wird höchst vielseitig eingesetzt, sodass du bspw. auch\n",
    "> - eine [Webseite erstellen](http://getpelican.com),\n",
    "> - einen [Webserver programmieren](http://www.djangoproject.com) oder\n",
    "> - ein [Spiel entwickeln](http://www.pygame.org) kannst!"
   ]
  },
  {
   "cell_type": "markdown",
   "metadata": {},
   "source": [
    "### Aufgabe 5 - Gaussian\n",
    "\n",
    "Importiere die Funktionen `exp` aus `numpy` oder `math`.\n",
    "\n",
    "Definiere eine Funktion mit dem Namen `gaussian`, welche die Argumente `x`, `mu`, `sigma` und `A` annimmt und den Wert $$A\\cdot \\,\\mathrm{exp}\\!\\left(\\frac{(x-\\mu)^2}{2\\cdot\\sigma^2}\\right)$$ zurückgibt."
   ]
  },
  {
   "cell_type": "code",
   "execution_count": 23,
   "metadata": {
    "nbgrader": {
     "grade": false,
     "grade_id": "103-3-sol",
     "locked": false,
     "schema_version": 1,
     "solution": true
    }
   },
   "outputs": [],
   "source": [
    "from numpy import exp, sqrt\n",
    "\n",
    "def gaussian(x, mu, sigma, A):\n",
    "    # DEINE LÖSUNG HIER\n",
    "    pass  # `pass` ist ein Platzhalter und sagt Python, dass es einfach nix machen soll. Entferne es, wenn du eine Lösung hast"
   ]
  },
  {
   "cell_type": "code",
   "execution_count": 24,
   "metadata": {
    "nbgrader": {
     "grade": true,
     "grade_id": "103-3-test",
     "locked": true,
     "points": 1,
     "schema_version": 1,
     "solution": false
    }
   },
   "outputs": [
    {
     "ename": "AssertionError",
     "evalue": "gaussian(x=0, mu=0, sigma=1, A=1) sollte 1 ergeben. Prüfe den Code deiner Funktion.",
     "output_type": "error",
     "traceback": [
      "\u001b[0;31m---------------------------------------------------------------------------\u001b[0m",
      "\u001b[0;31mAssertionError\u001b[0m                            Traceback (most recent call last)",
      "\u001b[0;32m<ipython-input-24-41505370d38b>\u001b[0m in \u001b[0;36m<module>\u001b[0;34m\u001b[0m\n\u001b[1;32m      9\u001b[0m     \u001b[0;32mraise\u001b[0m \u001b[0mNameError\u001b[0m\u001b[0;34m(\u001b[0m\u001b[0;34m\"Es gibt keine Funktion mit dem Namen 'gaussian'. Stelle sicher, dass deine Funktion so benannt ist.\"\u001b[0m\u001b[0;34m)\u001b[0m\u001b[0;34m\u001b[0m\u001b[0;34m\u001b[0m\u001b[0m\n\u001b[1;32m     10\u001b[0m \u001b[0;34m\u001b[0m\u001b[0m\n\u001b[0;32m---> 11\u001b[0;31m \u001b[0;32massert\u001b[0m \u001b[0mgaussian\u001b[0m\u001b[0;34m(\u001b[0m\u001b[0mx\u001b[0m\u001b[0;34m=\u001b[0m\u001b[0;36m0\u001b[0m\u001b[0;34m,\u001b[0m \u001b[0mmu\u001b[0m\u001b[0;34m=\u001b[0m\u001b[0;36m0\u001b[0m\u001b[0;34m,\u001b[0m \u001b[0msigma\u001b[0m\u001b[0;34m=\u001b[0m\u001b[0;36m1\u001b[0m\u001b[0;34m,\u001b[0m \u001b[0mA\u001b[0m\u001b[0;34m=\u001b[0m\u001b[0;36m1\u001b[0m\u001b[0;34m)\u001b[0m \u001b[0;34m==\u001b[0m \u001b[0;36m1\u001b[0m\u001b[0;34m,\u001b[0m \u001b[0;34m\"gaussian(x=0, mu=0, sigma=1, A=1) sollte 1 ergeben. Prüfe den Code deiner Funktion.\"\u001b[0m\u001b[0;34m\u001b[0m\u001b[0;34m\u001b[0m\u001b[0m\n\u001b[0m\u001b[1;32m     12\u001b[0m \u001b[0;32massert\u001b[0m \u001b[0mabs\u001b[0m\u001b[0;34m(\u001b[0m\u001b[0mgaussian\u001b[0m\u001b[0;34m(\u001b[0m\u001b[0mx\u001b[0m\u001b[0;34m=\u001b[0m\u001b[0;36m0\u001b[0m\u001b[0;34m,\u001b[0m \u001b[0mmu\u001b[0m\u001b[0;34m=\u001b[0m\u001b[0;36m1\u001b[0m\u001b[0;34m,\u001b[0m \u001b[0msigma\u001b[0m\u001b[0;34m=\u001b[0m\u001b[0;36m2\u001b[0m\u001b[0;34m,\u001b[0m \u001b[0mA\u001b[0m\u001b[0;34m=\u001b[0m\u001b[0;36m3\u001b[0m\u001b[0;34m)\u001b[0m \u001b[0;34m-\u001b[0m \u001b[0;36m3.4\u001b[0m\u001b[0;34m)\u001b[0m \u001b[0;34m<\u001b[0m \u001b[0;36m0.1\u001b[0m\u001b[0;34m,\u001b[0m \u001b[0;34m\"gaussian(x=0, mu=1, sigma=2, A=3) sollte ca 3.4 ergeben. Prüfe den Code deiner Funktion.\"\u001b[0m\u001b[0;34m\u001b[0m\u001b[0;34m\u001b[0m\u001b[0m\n\u001b[1;32m     13\u001b[0m \u001b[0mprint\u001b[0m\u001b[0;34m(\u001b[0m\u001b[0;34m\"👍 Stimmt so.\"\u001b[0m\u001b[0;34m)\u001b[0m\u001b[0;34m\u001b[0m\u001b[0;34m\u001b[0m\u001b[0m\n",
      "\u001b[0;31mAssertionError\u001b[0m: gaussian(x=0, mu=0, sigma=1, A=1) sollte 1 ergeben. Prüfe den Code deiner Funktion."
     ]
    }
   ],
   "source": [
    "try:\n",
    "    exp\n",
    "except NameError:\n",
    "    raise NameError(\"Es gibt keine Funktion mit dem Namen 'exp'. Hast du die Funktion mit der `from module import function_name` Syntax importiert?\")\n",
    "    \n",
    "try:\n",
    "    gaussian\n",
    "except NameError:\n",
    "    raise NameError(\"Es gibt keine Funktion mit dem Namen 'gaussian'. Stelle sicher, dass deine Funktion so benannt ist.\")\n",
    "\n",
    "assert gaussian(x=0, mu=0, sigma=1, A=1) == 1, \"gaussian(x=0, mu=0, sigma=1, A=1) sollte 1 ergeben. Prüfe den Code deiner Funktion.\"\n",
    "assert abs(gaussian(x=0, mu=1, sigma=2, A=3) - 3.4) < 0.1, \"gaussian(x=0, mu=1, sigma=2, A=3) sollte ca 3.4 ergeben. Prüfe den Code deiner Funktion.\"\n",
    "print(\"👍 Stimmt so.\")"
   ]
  },
  {
   "cell_type": "markdown",
   "metadata": {},
   "source": [
    "---\n",
    "\n",
    "Nun kannst du vollständige Programme schreiben und Funktionen aus Modulen verwenden. Erinnere dich daran - du musst nicht alles selbst schreiben! Baue lieber auf der Vorarbeit von schlauen Entwicklern auf der ganzen Welt auf, die schon hochoptimierte und getestete Lösungen für viele Probleme geschrieben haben.\n",
    "\n",
    "In den nächsten drei Lektionen lernen wir die Grundlagen jeweils eines Moduls, das in der wissenschaftlichen Programmierung mit Python allgegenwärtig ist und beginnen mit dem Numerik-Modul _Numpy_.\n",
    "\n",
    "[Startseite](index.ipynb) | [**>> 201 - Numerik mit Numpy**](201%20-%20Numerik%20mit%20Numpy.ipynb)"
   ]
  },
  {
   "cell_type": "code",
   "execution_count": null,
   "metadata": {},
   "outputs": [],
   "source": []
  }
 ],
 "metadata": {
  "kernelspec": {
   "display_name": "Python 3",
   "language": "python",
   "name": "python3"
  },
  "language_info": {
   "codemirror_mode": {
    "name": "ipython",
    "version": 3
   },
   "file_extension": ".py",
   "mimetype": "text/x-python",
   "name": "python",
   "nbconvert_exporter": "python",
   "pygments_lexer": "ipython3",
   "version": "3.6.9"
  }
 },
 "nbformat": 4,
 "nbformat_minor": 4
}
